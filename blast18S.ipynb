{
 "cells": [
  {
   "cell_type": "code",
   "execution_count": 6,
   "metadata": {},
   "outputs": [
    {
     "name": "stdout",
     "output_type": "stream",
     "text": [
      "merg_bc11_rna.txt\n",
      "merg_bc10_rna.txt\n",
      "merg_bc08_rna.txt\n",
      "merg_bc09_rna.txt\n",
      "merg_bc07_rna.txt\n"
     ]
    }
   ],
   "source": [
    "#!/bin/env/python\n",
    "import os\n",
    "import glob\n",
    "\n",
    "#this script takes in the Fastq files, runs blast on them and then writes the outputs in the txt files\n",
    "for file in glob.glob('*.fq'):\n",
    "    \n",
    "    with open(file,'r')as myfile:\n",
    "        new = file.rsplit('.',1)[0] + '.txt'\n",
    "        with open(new,'w') as outfile:\n",
    "            outfile.write(\"\")\n",
    "            my=myfile.readlines()\n",
    "            \n",
    "\n",
    "            #blastn -db '18S_fungal_sequences' -query 'file' results.out 'new'\n",
    "\n",
    "            print(new)\n",
    "\n",
    "    "
   ]
  }
 ],
 "metadata": {
  "kernelspec": {
   "display_name": "Python 3",
   "language": "python",
   "name": "python3"
  },
  "language_info": {
   "codemirror_mode": {
    "name": "ipython",
    "version": 3
   },
   "file_extension": ".py",
   "mimetype": "text/x-python",
   "name": "python",
   "nbconvert_exporter": "python",
   "pygments_lexer": "ipython3",
   "version": "3.6.5"
  }
 },
 "nbformat": 4,
 "nbformat_minor": 2
}
